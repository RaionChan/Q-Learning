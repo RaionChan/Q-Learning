{
 "cells": [
  {
   "cell_type": "code",
   "execution_count": 70,
   "id": "43b54c81",
   "metadata": {},
   "outputs": [
    {
     "name": "stdout",
     "output_type": "stream",
     "text": [
      "Average steps per episode: 9.82\n"
     ]
    }
   ],
   "source": [
    "import gymnasium as gym\n",
    "import numpy as np\n",
    "from collections import defaultdict\n",
    "\n",
    "env = gym.make('CartPole-v1')\n",
    "\n",
    "n_bins = (6, 12, 6, 12)\n",
    "bins = [\n",
    "    np.linspace(-4.8, 4.8, n_bins[0]),\n",
    "    np.linspace(-4, 4, n_bins[1]),\n",
    "    np.linspace(-0.418, 0.418, n_bins[2]),\n",
    "    np.linspace(-4, 4, n_bins[3])\n",
    "]\n",
    "\n",
    "def discretize_state(state):\n",
    "    state_idx = []\n",
    "    for i in range(len(state)):\n",
    "        state_idx.append(np.digitize(state[i], bins[i]) - 1)\n",
    "    return tuple(state_idx)\n",
    "\n",
    "Q = defaultdict(lambda: np.zeros(env.action_space.n))\n",
    "alpha = 0.1\n",
    "gamma = 0.99\n",
    "epsilon = 0.1\n",
    "episodes = 1000\n",
    "\n",
    "for episode in range(episodes):\n",
    "    state, info = env.reset()\n",
    "    state = discretize_state(state)\n",
    "\n",
    "    terminated = False\n",
    "    truncated = False\n",
    "\n",
    "    while not terminated and not truncated:\n",
    "        if np.random.random() < epsilon:\n",
    "            action = env.action_space.sample()\n",
    "        else:\n",
    "            action = np.argmax(Q[state])\n",
    "\n",
    "        next_state, reward, terminated, truncated, info = env.step(action)\n",
    "\n",
    "        next_state = discretize_state(next_state)\n",
    "        done = terminated or truncated\n",
    "\n",
    "        Q[state][action] += alpha * (float(reward) + gamma * np.max(Q[next_state]) - Q[state][action])\n",
    "        state = next_state\n",
    "\n",
    "total_steps = 0\n",
    "test_episodes = 100\n",
    "for _ in range(test_episodes):\n",
    "    state, info = env.reset()\n",
    "    state = discretize_state(state)\n",
    "    steps = 0\n",
    "    terminated = False\n",
    "    truncated = False\n",
    "    while not terminated and not truncated:\n",
    "        action = np.argmax(Q[state])\n",
    "        next_state, _, terminated, truncated, _ = env.step(action)\n",
    "        next_state = discretize_state(next_state)\n",
    "        steps += 1\n",
    "        state = next_state\n",
    "\n",
    "    total_steps += steps\n",
    "\n",
    "env.close()\n",
    "print(f\"Average steps per episode: {total_steps / test_episodes}\")"
   ]
  }
 ],
 "metadata": {
  "kernelspec": {
   "display_name": "ai",
   "language": "python",
   "name": "python3"
  },
  "language_info": {
   "codemirror_mode": {
    "name": "ipython",
    "version": 3
   },
   "file_extension": ".py",
   "mimetype": "text/x-python",
   "name": "python",
   "nbconvert_exporter": "python",
   "pygments_lexer": "ipython3",
   "version": "3.12.9"
  }
 },
 "nbformat": 4,
 "nbformat_minor": 5
}
